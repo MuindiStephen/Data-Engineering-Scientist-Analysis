{
 "cells": [
  {
   "cell_type": "code",
   "execution_count": 1,
   "id": "65e8bfd2-840c-4234-b57d-78fe64f5a5fd",
   "metadata": {},
   "outputs": [
    {
     "name": "stdout",
     "output_type": "stream",
     "text": [
      "Hello world\n"
     ]
    }
   ],
   "source": [
    "print(\"Hello world\")"
   ]
  },
  {
   "cell_type": "code",
   "execution_count": 6,
   "id": "ce40ed00-b800-4c96-acc8-64b20af363e9",
   "metadata": {},
   "outputs": [
    {
     "name": "stdout",
     "output_type": "stream",
     "text": [
      "Requirement already satisfied: pandas in c:\\users\\smuindi\\appdata\\local\\anaconda3\\lib\\site-packages (2.2.2)\n",
      "Requirement already satisfied: numpy>=1.26.0 in c:\\users\\smuindi\\appdata\\local\\anaconda3\\lib\\site-packages (from pandas) (1.26.4)\n",
      "Requirement already satisfied: python-dateutil>=2.8.2 in c:\\users\\smuindi\\appdata\\local\\anaconda3\\lib\\site-packages (from pandas) (2.9.0.post0)\n",
      "Requirement already satisfied: pytz>=2020.1 in c:\\users\\smuindi\\appdata\\local\\anaconda3\\lib\\site-packages (from pandas) (2024.1)\n",
      "Requirement already satisfied: tzdata>=2022.7 in c:\\users\\smuindi\\appdata\\local\\anaconda3\\lib\\site-packages (from pandas) (2023.3)\n",
      "Requirement already satisfied: six>=1.5 in c:\\users\\smuindi\\appdata\\local\\anaconda3\\lib\\site-packages (from python-dateutil>=2.8.2->pandas) (1.16.0)\n",
      "Note: you may need to restart the kernel to use updated packages.\n"
     ]
    }
   ],
   "source": [
    "pip install pandas"
   ]
  },
  {
   "cell_type": "code",
   "execution_count": 4,
   "id": "1d83427d-8cc6-4e51-84a3-525c1dca5da7",
   "metadata": {},
   "outputs": [
    {
     "name": "stdout",
     "output_type": "stream",
     "text": [
      "Collecting psycopg2-binaryNote: you may need to restart the kernel to use updated packages.\n",
      "\n",
      "  Downloading psycopg2_binary-2.9.10-cp312-cp312-win_amd64.whl.metadata (5.0 kB)\n",
      "Downloading psycopg2_binary-2.9.10-cp312-cp312-win_amd64.whl (1.2 MB)\n",
      "   ---------------------------------------- 0.0/1.2 MB ? eta -:--:--\n",
      "   ------------------------------------ --- 1.0/1.2 MB 7.1 MB/s eta 0:00:01\n",
      "   ---------------------------------------- 1.2/1.2 MB 5.2 MB/s eta 0:00:00\n",
      "Installing collected packages: psycopg2-binary\n",
      "Successfully installed psycopg2-binary-2.9.10\n"
     ]
    }
   ],
   "source": [
    "pip install psycopg2-binary"
   ]
  },
  {
   "cell_type": "code",
   "execution_count": 5,
   "id": "0214e4d1-73e5-43b7-a8c5-ba378e023c54",
   "metadata": {},
   "outputs": [
    {
     "name": "stdout",
     "output_type": "stream",
     "text": [
      "Data loaded successfully into PostgreSQL.\n"
     ]
    }
   ],
   "source": [
    "\"\"\"\"\"\n",
    "Use python to create a simple ETL data pipeline to extract, transform and load weather \n",
    "from a REST API to save as a CSV file\n",
    "\"\"\"\n",
    "#import os\n",
    "import requests\n",
    "import pandas as pd\n",
    "from datetime import datetime\n",
    "import psycopg2  #DB Adapter for python - Connecting to PostgreSQL & executing queries\n",
    "from sqlalchemy import create_engine #Efficiently manage & reuse db connections\n",
    "#from dotenv import load_dotenv\n",
    "\n",
    "\n",
    "##load sensitive data from .env\n",
    "#load_dotenv()\n",
    "#api_key = os.getenv(\"API_KEY\")\n",
    "API_KEY = '92ac1561e5d0eccf9f54619896ddc504'\n",
    "CITY = 'Nairobi'\n",
    "\n",
    "# PostgreSql db credentials\n",
    "DB_USER = 'postgres'\n",
    "DB_PASSWORD = 'admin1234'\n",
    "DB_HOST = 'localhost'  # or your database host\n",
    "DB_PORT = '5432'       # default PostgreSQL port\n",
    "DB_NAME = 'weather_db'\n",
    "\n",
    "\n",
    "# Define a base url for Open Weather  - fstring\n",
    "URL = f'http://api.openweathermap.org/data/2.5/weather?q={CITY}&appid={API_KEY}&units=metric'\n",
    "\n",
    "\n",
    "\n",
    "\n",
    "# Extract data\n",
    "def extract():\n",
    "    response = requests.get(URL)\n",
    "    data = response.json()\n",
    "    return data\n",
    "\n",
    "## Transform data\n",
    "def transform(data):\n",
    "    transformed_data = {\n",
    "        'city': data['name'],\n",
    "        'temperature': data['main']['temp'],\n",
    "        'humidity': data['main']['humidity'],\n",
    "        'weather': data['weather'][0]['description'],\n",
    "        'timestamp': datetime.now()\n",
    "    }\n",
    "    return transformed_data\n",
    "\n",
    "## Load data\n",
    "def load(data):\n",
    "    df = pd.DataFrame([data])\n",
    "   # df.to_csv('weather_data.csv', mode='a', header=not pd.io.common.file_exists('weather_data.csv'), index=False)\n",
    "    #print(\"Data Loaded successfuly\")\n",
    "    # Establish a connection using SQLAlchemy Engine\n",
    "    engine = create_engine(f'postgresql+psycopg2://{DB_USER}:{DB_PASSWORD}@{DB_HOST}:{DB_PORT}/{DB_NAME}')\n",
    "    # Load data into PostgreSQL\n",
    "    table_name = 'weather_data'\n",
    "    df.to_sql(table_name, engine, if_exists='append', index=False)\n",
    "    print('Data loaded successfully into PostgreSQL.')\n",
    "\n",
    "\n",
    "    # Close the engine connection \n",
    "    engine.dispose()\n",
    "\n",
    "def run_etl():\n",
    "    raw_data = extract()\n",
    "    processed_data = transform(raw_data)\n",
    "    load(processed_data)\n",
    "\n",
    "if __name__ == '__main__':\n",
    "    run_etl()\n",
    "\n"
   ]
  },
  {
   "cell_type": "code",
   "execution_count": 7,
   "id": "e4945e0f-5253-4aa4-8b68-bb439f7b5d58",
   "metadata": {},
   "outputs": [
    {
     "name": "stdout",
     "output_type": "stream",
     "text": [
      "Requirement already satisfied: matplotlib in c:\\users\\smuindi\\appdata\\local\\anaconda3\\lib\\site-packages (3.9.2)\n",
      "Requirement already satisfied: contourpy>=1.0.1 in c:\\users\\smuindi\\appdata\\local\\anaconda3\\lib\\site-packages (from matplotlib) (1.2.0)\n",
      "Requirement already satisfied: cycler>=0.10 in c:\\users\\smuindi\\appdata\\local\\anaconda3\\lib\\site-packages (from matplotlib) (0.11.0)\n",
      "Requirement already satisfied: fonttools>=4.22.0 in c:\\users\\smuindi\\appdata\\local\\anaconda3\\lib\\site-packages (from matplotlib) (4.51.0)\n",
      "Requirement already satisfied: kiwisolver>=1.3.1 in c:\\users\\smuindi\\appdata\\local\\anaconda3\\lib\\site-packages (from matplotlib) (1.4.4)\n",
      "Requirement already satisfied: numpy>=1.23 in c:\\users\\smuindi\\appdata\\local\\anaconda3\\lib\\site-packages (from matplotlib) (1.26.4)\n",
      "Requirement already satisfied: packaging>=20.0 in c:\\users\\smuindi\\appdata\\local\\anaconda3\\lib\\site-packages (from matplotlib) (24.1)\n",
      "Requirement already satisfied: pillow>=8 in c:\\users\\smuindi\\appdata\\local\\anaconda3\\lib\\site-packages (from matplotlib) (10.4.0)\n",
      "Requirement already satisfied: pyparsing>=2.3.1 in c:\\users\\smuindi\\appdata\\local\\anaconda3\\lib\\site-packages (from matplotlib) (3.1.2)\n",
      "Requirement already satisfied: python-dateutil>=2.7 in c:\\users\\smuindi\\appdata\\local\\anaconda3\\lib\\site-packages (from matplotlib) (2.9.0.post0)\n",
      "Requirement already satisfied: six>=1.5 in c:\\users\\smuindi\\appdata\\local\\anaconda3\\lib\\site-packages (from python-dateutil>=2.7->matplotlib) (1.16.0)\n",
      "Note: you may need to restart the kernel to use updated packages.\n"
     ]
    }
   ],
   "source": [
    "pip install matplotlib"
   ]
  },
  {
   "cell_type": "code",
   "execution_count": 8,
   "id": "6c69f4c1-493d-4ce8-8c93-215fd060576b",
   "metadata": {},
   "outputs": [
    {
     "name": "stdout",
     "output_type": "stream",
     "text": [
      "Requirement already satisfied: seaborn in c:\\users\\smuindi\\appdata\\local\\anaconda3\\lib\\site-packages (0.13.2)\n",
      "Requirement already satisfied: numpy!=1.24.0,>=1.20 in c:\\users\\smuindi\\appdata\\local\\anaconda3\\lib\\site-packages (from seaborn) (1.26.4)\n",
      "Requirement already satisfied: pandas>=1.2 in c:\\users\\smuindi\\appdata\\local\\anaconda3\\lib\\site-packages (from seaborn) (2.2.2)\n",
      "Requirement already satisfied: matplotlib!=3.6.1,>=3.4 in c:\\users\\smuindi\\appdata\\local\\anaconda3\\lib\\site-packages (from seaborn) (3.9.2)\n",
      "Requirement already satisfied: contourpy>=1.0.1 in c:\\users\\smuindi\\appdata\\local\\anaconda3\\lib\\site-packages (from matplotlib!=3.6.1,>=3.4->seaborn) (1.2.0)\n",
      "Requirement already satisfied: cycler>=0.10 in c:\\users\\smuindi\\appdata\\local\\anaconda3\\lib\\site-packages (from matplotlib!=3.6.1,>=3.4->seaborn) (0.11.0)\n",
      "Requirement already satisfied: fonttools>=4.22.0 in c:\\users\\smuindi\\appdata\\local\\anaconda3\\lib\\site-packages (from matplotlib!=3.6.1,>=3.4->seaborn) (4.51.0)\n",
      "Requirement already satisfied: kiwisolver>=1.3.1 in c:\\users\\smuindi\\appdata\\local\\anaconda3\\lib\\site-packages (from matplotlib!=3.6.1,>=3.4->seaborn) (1.4.4)\n",
      "Requirement already satisfied: packaging>=20.0 in c:\\users\\smuindi\\appdata\\local\\anaconda3\\lib\\site-packages (from matplotlib!=3.6.1,>=3.4->seaborn) (24.1)\n",
      "Requirement already satisfied: pillow>=8 in c:\\users\\smuindi\\appdata\\local\\anaconda3\\lib\\site-packages (from matplotlib!=3.6.1,>=3.4->seaborn) (10.4.0)\n",
      "Requirement already satisfied: pyparsing>=2.3.1 in c:\\users\\smuindi\\appdata\\local\\anaconda3\\lib\\site-packages (from matplotlib!=3.6.1,>=3.4->seaborn) (3.1.2)\n",
      "Requirement already satisfied: python-dateutil>=2.7 in c:\\users\\smuindi\\appdata\\local\\anaconda3\\lib\\site-packages (from matplotlib!=3.6.1,>=3.4->seaborn) (2.9.0.post0)\n",
      "Requirement already satisfied: pytz>=2020.1 in c:\\users\\smuindi\\appdata\\local\\anaconda3\\lib\\site-packages (from pandas>=1.2->seaborn) (2024.1)\n",
      "Requirement already satisfied: tzdata>=2022.7 in c:\\users\\smuindi\\appdata\\local\\anaconda3\\lib\\site-packages (from pandas>=1.2->seaborn) (2023.3)\n",
      "Requirement already satisfied: six>=1.5 in c:\\users\\smuindi\\appdata\\local\\anaconda3\\lib\\site-packages (from python-dateutil>=2.7->matplotlib!=3.6.1,>=3.4->seaborn) (1.16.0)\n",
      "Note: you may need to restart the kernel to use updated packages.\n"
     ]
    }
   ],
   "source": [
    "pip install seaborn"
   ]
  },
  {
   "cell_type": "code",
   "execution_count": 9,
   "id": "e9a13ac3-626d-404a-a7f1-65dc74b1c6ce",
   "metadata": {},
   "outputs": [
    {
     "name": "stdout",
     "output_type": "stream",
     "text": [
      "Requirement already satisfied: scikit-learn in c:\\users\\smuindi\\appdata\\local\\anaconda3\\lib\\site-packages (1.5.1)\n",
      "Requirement already satisfied: numpy>=1.19.5 in c:\\users\\smuindi\\appdata\\local\\anaconda3\\lib\\site-packages (from scikit-learn) (1.26.4)\n",
      "Requirement already satisfied: scipy>=1.6.0 in c:\\users\\smuindi\\appdata\\local\\anaconda3\\lib\\site-packages (from scikit-learn) (1.13.1)\n",
      "Requirement already satisfied: joblib>=1.2.0 in c:\\users\\smuindi\\appdata\\local\\anaconda3\\lib\\site-packages (from scikit-learn) (1.4.2)\n",
      "Requirement already satisfied: threadpoolctl>=3.1.0 in c:\\users\\smuindi\\appdata\\local\\anaconda3\\lib\\site-packages (from scikit-learn) (3.5.0)\n",
      "Note: you may need to restart the kernel to use updated packages.\n"
     ]
    }
   ],
   "source": [
    "pip install scikit-learn"
   ]
  },
  {
   "cell_type": "markdown",
   "id": "cd34ef8b-176f-4c71-a9e4-96597d22200e",
   "metadata": {},
   "source": [
    "# 1. Connect to the PostgreSQL Database and Load Data"
   ]
  },
  {
   "cell_type": "code",
   "execution_count": 12,
   "id": "777cd5a4-29ec-48c6-86d5-252798aad6fb",
   "metadata": {},
   "outputs": [
    {
     "name": "stdout",
     "output_type": "stream",
     "text": [
      "      city  temperature  humidity        weather                  timestamp\n",
      "0  Nairobi        19.47        82  moderate rain 2025-04-19 18:11:44.158468\n",
      "1  Nairobi        19.47        82  moderate rain 2025-04-19 18:13:13.438553\n",
      "2  Nairobi        17.54        91  moderate rain 2025-04-20 22:03:43.963528\n",
      "3  Nairobi        17.54        91  moderate rain 2025-04-20 22:08:54.638482\n",
      "4  Nairobi        17.24        91  moderate rain 2025-04-20 22:33:08.710918\n",
      "5  Nairobi        17.24        91  moderate rain 2025-04-20 22:45:47.575682\n",
      "6  Nairobi        17.24        91  moderate rain 2025-04-20 22:53:22.729879\n",
      "<class 'pandas.core.frame.DataFrame'>\n",
      "RangeIndex: 7 entries, 0 to 6\n",
      "Data columns (total 5 columns):\n",
      " #   Column       Non-Null Count  Dtype         \n",
      "---  ------       --------------  -----         \n",
      " 0   city         7 non-null      object        \n",
      " 1   temperature  7 non-null      float64       \n",
      " 2   humidity     7 non-null      int64         \n",
      " 3   weather      7 non-null      object        \n",
      " 4   timestamp    7 non-null      datetime64[ns]\n",
      "dtypes: datetime64[ns](1), float64(1), int64(1), object(2)\n",
      "memory usage: 412.0+ bytes\n"
     ]
    },
    {
     "data": {
      "text/plain": [
       "city           0\n",
       "temperature    0\n",
       "humidity       0\n",
       "weather        0\n",
       "timestamp      0\n",
       "dtype: int64"
      ]
     },
     "execution_count": 12,
     "metadata": {},
     "output_type": "execute_result"
    }
   ],
   "source": [
    "import pandas as pd\n",
    "from sqlalchemy import create_engine\n",
    "\n",
    "# Replace with your actual database credentials\n",
    "db_user = 'postgres'\n",
    "db_password = 'admin1234'\n",
    "db_host = 'localhost'\n",
    "db_port = '5432'\n",
    "db_name = 'weather_db'\n",
    "\n",
    "# Create the database engine\n",
    "engine = create_engine(f'postgresql+psycopg2://{db_user}:{db_password}@{db_host}:{db_port}/{db_name}')\n",
    "\n",
    "# Load data into a DataFrame\n",
    "df = pd.read_sql('SELECT * FROM weather_data', engine)\n",
    "\n",
    "# Display the first few rows\n",
    "print(df)\n",
    "\n",
    "# Get a summary of the dataset\n",
    "df.info()\n",
    "\n",
    "# Statistical summary\n",
    "df.describe()\n",
    "\n",
    "# Check for missing values\n",
    "df.isnull().sum()\n",
    "\n"
   ]
  },
  {
   "cell_type": "markdown",
   "id": "bb182f89-a98b-4f1c-baf5-785af59841d4",
   "metadata": {},
   "source": [
    "# Exploratory Data Analysis (EDA)"
   ]
  },
  {
   "cell_type": "code",
   "execution_count": 7,
   "id": "d8704863-4b71-4977-887e-2cdb966811a2",
   "metadata": {},
   "outputs": [
    {
     "name": "stdout",
     "output_type": "stream",
     "text": [
      "<class 'pandas.core.frame.DataFrame'>\n",
      "RangeIndex: 7 entries, 0 to 6\n",
      "Data columns (total 5 columns):\n",
      " #   Column       Non-Null Count  Dtype         \n",
      "---  ------       --------------  -----         \n",
      " 0   city         7 non-null      object        \n",
      " 1   temperature  7 non-null      float64       \n",
      " 2   humidity     7 non-null      int64         \n",
      " 3   weather      7 non-null      object        \n",
      " 4   timestamp    7 non-null      datetime64[ns]\n",
      "dtypes: datetime64[ns](1), float64(1), int64(1), object(2)\n",
      "memory usage: 412.0+ bytes\n"
     ]
    },
    {
     "data": {
      "text/plain": [
       "city           0\n",
       "temperature    0\n",
       "humidity       0\n",
       "weather        0\n",
       "timestamp      0\n",
       "dtype: int64"
      ]
     },
     "execution_count": 7,
     "metadata": {},
     "output_type": "execute_result"
    }
   ],
   "source": [
    "# Get a summary of the dataset\n",
    "df.info()\n",
    "\n",
    "# Statistical summary\n",
    "df.describe()\n",
    "\n",
    "# Check for missing values\n",
    "df.isnull().sum()\n"
   ]
  },
  {
   "cell_type": "code",
   "execution_count": 13,
   "id": "03561980-4aa3-4ecb-a378-cf43d93256e8",
   "metadata": {},
   "outputs": [
    {
     "data": {
      "image/png": "[encoded data removed]",
      "text/plain": [
       "<Figure size 1000x600 with 1 Axes>"
      ]
     },
     "metadata": {},
     "output_type": "display_data"
    },
    {
     "data": {
      "image/png": "[encoded data removed]",
      "text/plain": [
       "<Figure size 1000x600 with 1 Axes>"
      ]
     },
     "metadata": {},
     "output_type": "display_data"
    }
   ],
   "source": [
    "import matplotlib.pyplot as plt\n",
    "import seaborn as sns\n",
    "\n",
    "# Histogram of temperature\n",
    "plt.figure(figsize=(10, 6))\n",
    "sns.histplot(df['temperature'], bins=30, kde=True)\n",
    "plt.title('Temperature Distribution')\n",
    "plt.xlabel('Temperature')\n",
    "plt.ylabel('Frequency')\n",
    "plt.show()\n",
    "\n",
    "# Scatter plot of temperature vs. humidity\n",
    "plt.figure(figsize=(10, 6))\n",
    "sns.scatterplot(x='temperature', y='humidity', data=df)\n",
    "plt.title('Temperature vs. Humidity')\n",
    "plt.xlabel('Temperature')\n",
    "plt.ylabel('Humidity')\n",
    "plt.show()"
   ]
  },
  {
   "cell_type": "code",
   "execution_count": 14,
   "id": "da4d725b-fe8e-46f5-bbfd-b7ee5ef1b0aa",
   "metadata": {},
   "outputs": [],
   "source": [
    "# Convert timestamp to datetime if it's not already\n",
    "df['timestamp'] = pd.to_datetime(df['timestamp'])\n",
    "\n",
    "# Extract date-related features\n",
    "df['day_of_week'] = df['timestamp'].dt.dayofweek\n",
    "df['month'] = df['timestamp'].dt.month\n",
    "df['hour'] = df['timestamp'].dt.hour\n",
    "\n",
    "# One-hot encode the 'weather' categorical variable\n",
    "df = pd.get_dummies(df, columns=['weather'], drop_first=True)"
   ]
  },
  {
   "cell_type": "code",
   "execution_count": 15,
   "id": "02d2cf76-28bf-4a75-91d3-e33bc785a65a",
   "metadata": {},
   "outputs": [
    {
     "name": "stdout",
     "output_type": "stream",
     "text": [
      "Mean Squared Error: 4.45\n",
      "R-squared: 0.00\n"
     ]
    }
   ],
   "source": [
    "from sklearn.model_selection import train_test_split\n",
    "from sklearn.linear_model import LinearRegression\n",
    "from sklearn.metrics import mean_squared_error, r2_score\n",
    "\n",
    "# Define features and target variable\n",
    "features = ['humidity', 'day_of_week', 'month', 'hour'] + [col for col in df.columns if col.startswith('weather_')]\n",
    "X = df[features]\n",
    "y = df['temperature']\n",
    "\n",
    "# Split the data\n",
    "X_train, X_test, y_train, y_test = train_test_split(X, y, test_size=0.2, random_state=42)\n",
    "\n",
    "# Initialize and train the model\n",
    "model = LinearRegression()\n",
    "model.fit(X_train, y_train)\n",
    "\n",
    "# Predict and evaluate\n",
    "y_pred = model.predict(X_test)\n",
    "mse = mean_squared_error(y_test, y_pred)\n",
    "r2 = r2_score(y_test, y_pred)\n",
    "\n",
    "print(f'Mean Squared Error: {mse:.2f}')\n",
    "print(f'R-squared: {r2:.2f}')"
   ]
  },
  {
   "cell_type": "code",
   "execution_count": 16,
   "id": "186d0aba-3ad7-4aee-9b1e-a6cbdf080243",
   "metadata": {},
   "outputs": [
    {
     "data": {
      "image/png": "[encoded data removed]",
      "text/plain": [
       "<Figure size 1000x600 with 1 Axes>"
      ]
     },
     "metadata": {},
     "output_type": "display_data"
    }
   ],
   "source": [
    "# Scatter plot of actual vs. predicted temperatures\n",
    "plt.figure(figsize=(10, 6))\n",
    "sns.scatterplot(x=y_test, y=y_pred)\n",
    "plt.title('Actual vs. Predicted Temperatures')\n",
    "plt.xlabel('Actual Temperature')\n",
    "plt.ylabel('Predicted Temperature')\n",
    "plt.plot([y_test.min(), y_test.max()], [y_test.min(), y_test.max()], 'r--')  # Diagonal line\n",
    "plt.show()"
   ]
  },
  {
   "cell_type": "code",
   "execution_count": null,
   "id": "df146980-7d1d-4806-9dd0-349d662cadb3",
   "metadata": {},
   "outputs": [],
   "source": []
  }
 ],
 "metadata": {
  "kernelspec": {
   "display_name": "Python 3 (ipykernel)",
   "language": "python",
   "name": "python3"
  },
  "language_info": {
   "codemirror_mode": {
    "name": "ipython",
    "version": 3
   },
   "file_extension": ".py",
   "mimetype": "text/x-python",
   "name": "python",
   "nbconvert_exporter": "python",
   "pygments_lexer": "ipython3",
   "version": "3.12.7"
  }
 },
 "nbformat": 4,
 "nbformat_minor": 5
}
